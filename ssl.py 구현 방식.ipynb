{
 "cells": [
  {
   "cell_type": "markdown",
   "id": "bfc641fa",
   "metadata": {},
   "source": [
    "# List 구현하기\n",
    "## Linked List의 각 노드가 다음 노드를 가르키는 것이 아닌, 다음 노드와 이전 노드를 가르키는 구조를 가지고 있다.\n",
    "## 이를 위해 Node 클래스에 이전 노드를 가르키는 변수인 prev가 추가된다.\n",
    "## 첫번째 노드를 가르키는 head와 마지막 노드를 가르키는 tail을 추가한다.\n",
    "## head와 tail 노드는 각각 다음 노드와 이전 노드를 가르키는 변수가 필요 없으므로 초기화한다."
   ]
  },
  {
   "cell_type": "markdown",
   "id": "bf591134",
   "metadata": {},
   "source": [
    "# 메소드\n",
    "## append : 맨 뒤에 노드를 추가함.\n",
    "## delete : 최근 노드를 삭제한다.\n",
    "## first : 맨 앞의 노드를 찾는다.\n",
    "## next : 최근 노드의 다음 노드를 검색한다.\n",
    "## size : 리스트의 데이터 개수를 반환한다.\n",
    "## traverse_all : 모든 노드를 돌며 출력한다.\n",
    "## insert_at : 주어진 위치에 데이터를 넣는다."
   ]
  },
  {
   "cell_type": "code",
   "execution_count": 5,
   "id": "a5ee9f15",
   "metadata": {},
   "outputs": [],
   "source": [
    "class Node:\n",
    "    def __init__(self, data):\n",
    "        self.data = data\n",
    "        self.prev = None\n",
    "        self.next = None\n",
    "\n",
    "class DoublyLinkedList:\n",
    "    def __init__(self):\n",
    "        self.head = Node(None)\n",
    "        self.tail = None\n",
    "        self.num_of_data = 0\n",
    "        self.current = self.head\n",
    "        self.before = None\n",
    "\n",
    "    def append(self, data):\n",
    "        new_node = Node(data)\n",
    "        if self.tail is None:\n",
    "            # 데이터가 없는 경우\n",
    "            self.head.next = new_node\n",
    "            new_node.prev = self.head\n",
    "            self.tail = new_node\n",
    "        else:\n",
    "            self.tail.next = new_node\n",
    "            new_node.prev = self.tail\n",
    "            self.tail = new_node\n",
    "        self.num_of_data += 1\n",
    "\n",
    "    def delete(self):\n",
    "        pop_data = self.current.data\n",
    "        if self.current is self.tail:\n",
    "            # 삭제할 노드가 tail 노드인 경우\n",
    "            self.tail = self.current.prev\n",
    "            self.tail.next = None\n",
    "        else:\n",
    "            # 삭제할 노드가 tail 노드가 아닌 경우\n",
    "            self.current.prev.next = self.current.next\n",
    "            self.current.next.prev = self.current.prev\n",
    "        self.current = self.current.prev\n",
    "        self.num_of_data -= 1\n",
    "        return pop_data\n",
    "\n",
    "    def first(self):\n",
    "        # 데이터가 없는 경우 첫번째 노드도 없기 때문에 None 리턴\n",
    "        if self.num_of_data == 0: \n",
    "            return None\n",
    "        self.before = self.head\n",
    "        self.current = self.head.next\n",
    "        return self.current.data\n",
    "\n",
    "    def next(self):\n",
    "        if self.current.next is None:\n",
    "            # current가 tail 노드인 경우\n",
    "            return None\n",
    "        self.before = self.current\n",
    "        self.current = self.current.next\n",
    "        return self.current.data\n",
    "\n",
    "    def size(self):\n",
    "        return self.num_of_data\n",
    "\n",
    "    def traverse_all(self):\n",
    "        node = self.head.next\n",
    "        print(\"head ->\", end=\" \")\n",
    "        while node is not None:\n",
    "            print(\"({}) ->\".format(node.data), end=\" \")\n",
    "            node = node.next\n",
    "        print(\"tail\")\n"
   ]
  },
  {
   "cell_type": "code",
   "execution_count": null,
   "id": "12c6feed",
   "metadata": {},
   "outputs": [],
   "source": []
  }
 ],
 "metadata": {
  "kernelspec": {
   "display_name": "Python 3 (ipykernel)",
   "language": "python",
   "name": "python3"
  },
  "language_info": {
   "codemirror_mode": {
    "name": "ipython",
    "version": 3
   },
   "file_extension": ".py",
   "mimetype": "text/x-python",
   "name": "python",
   "nbconvert_exporter": "python",
   "pygments_lexer": "ipython3",
   "version": "3.10.9"
  }
 },
 "nbformat": 4,
 "nbformat_minor": 5
}
