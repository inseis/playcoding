{
 "cells": [
  {
   "cell_type": "markdown",
   "id": "5ccb9aaa",
   "metadata": {},
   "source": [
    "# 202003215 컴퓨터공학부 정인서 "
   ]
  },
  {
   "cell_type": "code",
   "execution_count": 6,
   "id": "73badf27",
   "metadata": {},
   "outputs": [],
   "source": [
    "class Node:\n",
    "    def __init__(self, data):\n",
    "        self.data = data\n",
    "        self.next = None"
   ]
  },
  {
   "cell_type": "code",
   "execution_count": 7,
   "id": "05ecfb5a",
   "metadata": {},
   "outputs": [],
   "source": [
    "class Node:\n",
    "    def __init__(self, data):\n",
    "        self.data = data\n",
    "        self.prev = None\n",
    "        self.next = None\n",
    "\n",
    "class DoublyLinkedList:\n",
    "    def __init__(self):\n",
    "        self.head = Node(None)\n",
    "        self.tail = None\n",
    "        self.num_of_data = 0\n",
    "        self.current = self.head\n",
    "        self.before = None\n",
    "\n",
    "    def append(self, data):\n",
    "        new_node = Node(data)\n",
    "        if self.tail is None:\n",
    "            # 데이터가 없는 경우\n",
    "            self.head.next = new_node\n",
    "            new_node.prev = self.head\n",
    "            self.tail = new_node\n",
    "        else:\n",
    "            self.tail.next = new_node\n",
    "            new_node.prev = self.tail\n",
    "            self.tail = new_node\n",
    "        self.num_of_data += 1\n",
    "\n",
    "    def delete(self):\n",
    "        pop_data = self.current.data\n",
    "        if self.current is self.tail:\n",
    "            # 삭제할 노드가 tail 노드인 경우\n",
    "            self.tail = self.current.prev\n",
    "            self.tail.next = None\n",
    "        else:\n",
    "            # 삭제할 노드가 tail 노드가 아닌 경우\n",
    "            self.current.prev.next = self.current.next\n",
    "            self.current.next.prev = self.current.prev\n",
    "        self.current = self.current.prev\n",
    "        self.num_of_data -= 1\n",
    "        return pop_data\n",
    "\n",
    "    def first(self):\n",
    "        # 데이터가 없는 경우 첫번째 노드도 없기 때문에 None 리턴\n",
    "        if self.num_of_data == 0: \n",
    "            return None\n",
    "        self.before = self.head\n",
    "        self.current = self.head.next\n",
    "        return self.current.data\n",
    "\n",
    "    def next(self):\n",
    "        if self.current.next is None:\n",
    "            # current가 tail 노드인 경우\n",
    "            return None\n",
    "        self.before = self.current\n",
    "        self.current = self.current.next\n",
    "        return self.current.data\n",
    "\n",
    "    def size(self):\n",
    "        return self.num_of_data\n",
    "\n",
    "    def traverse_all(self):\n",
    "        node = self.head.next\n",
    "        print(\"head ->\", end=\" \")\n",
    "        while node is not None:\n",
    "            print(\"({}) ->\".format(node.data), end=\" \")\n",
    "            node = node.next\n",
    "        print(\"tail\")\n"
   ]
  },
  {
   "cell_type": "markdown",
   "id": "0d025d53",
   "metadata": {},
   "source": [
    "## 아래는 DoublyLinkedList 테스트하는 예시 코드입니다."
   ]
  },
  {
   "cell_type": "code",
   "execution_count": 10,
   "id": "ff963675",
   "metadata": {},
   "outputs": [
    {
     "name": "stdout",
     "output_type": "stream",
     "text": [
      "head -> (1) -> (2) -> (3) -> tail\n",
      "1\n",
      "2\n",
      "3\n",
      "None\n",
      "head -> (1) -> (2) -> tail\n"
     ]
    }
   ],
   "source": [
    "# DoublyLinkedList 객체 생성\n",
    "DB = DoublyLinkedList()\n",
    "\n",
    "# append 메서드로 데이터 추가\n",
    "DB.append(1)\n",
    "DB.append(2)\n",
    "DB.append(3)\n",
    "\n",
    "# traverse_all 메서드로 전체 데이터 출력\n",
    "DB.traverse_all()  # head -> (1) -> (2) -> (3) -> tail\n",
    "\n",
    "# first 메서드로 첫번째 데이터 출력\n",
    "print(DB.first())  # 1\n",
    "\n",
    "# next 메서드로 다음 데이터 출력\n",
    "print(DB.next())   # 2\n",
    "print(DB.next())   # 3\n",
    "print(DB.next())   # None\n",
    "\n",
    "# delete 메서드로 데이터 삭제 후 traverse_all 메서드로 전체 데이터 출력\n",
    "DB.delete()\n",
    "DB.traverse_all()  # head -> (1) -> (2) -> tail\n"
   ]
  },
  {
   "cell_type": "markdown",
   "id": "ac8b121b",
   "metadata": {},
   "source": []
  },
  {
   "cell_type": "code",
   "execution_count": null,
   "id": "1da701fa",
   "metadata": {},
   "outputs": [],
   "source": []
  },
  {
   "cell_type": "code",
   "execution_count": null,
   "id": "96cead74",
   "metadata": {},
   "outputs": [],
   "source": []
  }
 ],
 "metadata": {
  "kernelspec": {
   "display_name": "Python 3 (ipykernel)",
   "language": "python",
   "name": "python3"
  },
  "language_info": {
   "codemirror_mode": {
    "name": "ipython",
    "version": 3
   },
   "file_extension": ".py",
   "mimetype": "text/x-python",
   "name": "python",
   "nbconvert_exporter": "python",
   "pygments_lexer": "ipython3",
   "version": "3.10.9"
  }
 },
 "nbformat": 4,
 "nbformat_minor": 5
}
