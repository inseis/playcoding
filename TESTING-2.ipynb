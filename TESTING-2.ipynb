{
 "cells": [
  {
   "cell_type": "markdown",
   "id": "cc594866",
   "metadata": {},
   "source": [
    "# 202003215 컴퓨터공학부 정인서 "
   ]
  },
  {
   "cell_type": "code",
   "execution_count": 6,
   "id": "bf939ffb",
   "metadata": {},
   "outputs": [],
   "source": [
    "class Node:\n",
    "    def __init__(self, data):\n",
    "        self.data = data\n",
    "        self.next = None"
   ]
  },
  {
   "cell_type": "code",
   "execution_count": 7,
   "id": "05ecfb5a",
   "metadata": {},
   "outputs": [],
   "source": [
    "class Node:\n",
    "    def __init__(self, data):\n",
    "        self.data = data\n",
    "        self.prev = None\n",
    "        self.next = None\n",
    "\n",
    "class DoublyLinkedList:\n",
    "    def __init__(self):\n",
    "        self.head = Node(None)\n",
    "        self.tail = None\n",
    "        self.num_of_data = 0\n",
    "        self.current = self.head\n",
    "        self.before = None\n",
    "\n",
    "    def append(self, data):\n",
    "        new_node = Node(data)\n",
    "        if self.tail is None:\n",
    "            # 데이터가 없는 경우\n",
    "            self.head.next = new_node\n",
    "            new_node.prev = self.head\n",
    "            self.tail = new_node\n",
    "        else:\n",
    "            self.tail.next = new_node\n",
    "            new_node.prev = self.tail\n",
    "            self.tail = new_node\n",
    "        self.num_of_data += 1\n",
    "\n",
    "    def delete(self):\n",
    "        pop_data = self.current.data\n",
    "        if self.current is self.tail:\n",
    "            # 삭제할 노드가 tail 노드인 경우\n",
    "            self.tail = self.current.prev\n",
    "            self.tail.next = None\n",
    "        else:\n",
    "            # 삭제할 노드가 tail 노드가 아닌 경우\n",
    "            self.current.prev.next = self.current.next\n",
    "            self.current.next.prev = self.current.prev\n",
    "        self.current = self.current.prev\n",
    "        self.num_of_data -= 1\n",
    "        return pop_data\n",
    "\n",
    "    def first(self):\n",
    "        # 데이터가 없는 경우 첫번째 노드도 없기 때문에 None 리턴\n",
    "        if self.num_of_data == 0: \n",
    "            return None\n",
    "        self.before = self.head\n",
    "        self.current = self.head.next\n",
    "        return self.current.data\n",
    "\n",
    "    def next(self):\n",
    "        if self.current.next is None:\n",
    "            # current가 tail 노드인 경우\n",
    "            return None\n",
    "        self.before = self.current\n",
    "        self.current = self.current.next\n",
    "        return self.current.data\n",
    "\n",
    "    def size(self):\n",
    "        return self.num_of_data\n",
    "\n",
    "    def traverse_all(self):\n",
    "        node = self.head.next\n",
    "        print(\"head ->\", end=\" \")\n",
    "        while node is not None:\n",
    "            print(\"({}) ->\".format(node.data), end=\" \")\n",
    "            node = node.next\n",
    "        print(\"tail\")\n"
   ]
  },
  {
   "cell_type": "markdown",
   "id": "d020defa",
   "metadata": {},
   "source": [
    "## 아래는 DoublyLinkedList 테스트하는 예시 코드입니다."
   ]
  },
  {
   "cell_type": "code",
   "execution_count": 10,
   "id": "6e991ec3",
   "metadata": {},
   "outputs": [
    {
     "name": "stdout",
     "output_type": "stream",
     "text": [
      "head -> (1) -> (2) -> (3) -> tail\n",
      "1\n",
      "2\n",
      "3\n",
      "None\n",
      "head -> (1) -> (2) -> tail\n"
     ]
    }
   ],
   "source": [
    "# DoublyLinkedList 객체 생성\n",
    "DB = DoublyLinkedList()\n",
    "\n",
    "# append 메서드로 데이터 추가\n",
    "DB.append(1)\n",
    "DB.append(2)\n",
    "DB.append(3)\n",
    "\n",
    "# traverse_all 메서드로 전체 데이터 출력\n",
    "DB.traverse_all()  # head -> (1) -> (2) -> (3) -> tail\n",
    "\n",
    "# first 메서드로 첫번째 데이터 출력\n",
    "print(DB.first())  # 1\n",
    "\n",
    "# next 메서드로 다음 데이터 출력\n",
    "print(DB.next())   # 2\n",
    "print(DB.next())   # 3\n",
    "print(DB.next())   # None\n",
    "\n",
    "# delete 메서드로 데이터 삭제 후 traverse_all 메서드로 전체 데이터 출력\n",
    "DB.delete()\n",
    "DB.traverse_all()  # head -> (1) -> (2) -> tail\n"
   ]
  },
  {
   "cell_type": "markdown",
   "id": "0ee0535b",
   "metadata": {},
   "source": [
    "## 테스트-2\n",
    "### 과일넣기"
   ]
  },
  {
   "cell_type": "code",
   "execution_count": 14,
   "id": "ee2cbc7c",
   "metadata": {},
   "outputs": [
    {
     "name": "stdout",
     "output_type": "stream",
     "text": [
      "head -> (apple) -> (banana) -> (cherry) -> tail\n"
     ]
    }
   ],
   "source": [
    "# DB 리스트 생성 및 데이터 추가\n",
    "DB = DoublyLinkedList()\n",
    "DB.append(\"apple\")\n",
    "DB.append(\"banana\")\n",
    "DB.append(\"cherry\")\n",
    "DB.append(\"durian\")\n",
    "\n",
    "# 첫번째 노드 확인\n",
    "DB.first() == \"apple\"\n",
    "\n",
    "# 다음 노드들 확인\n",
    "DB.next() == \"banana\"\n",
    "DB.next() == \"cherry\"\n",
    "DB.next() == \"durian\"\n",
    "\n",
    "# 더 이상 노드가 없는 경우 확인\n",
    "DB.next() == None\n",
    "\n",
    "# 리스트 크기 확인\n",
    "DB.size() == 4\n",
    "\n",
    "# 노드 삭제 후 남은 노드들 확인\n",
    "DB.delete()\n",
    "DB.next() == \"cherry\"\n",
    "DB.delete()\n",
    "DB.next() == \"banana\"\n",
    "DB.delete()\n",
    "DB.next() == \"apple\"\n",
    "DB.next() == None\n",
    "\n",
    "# 삭제 후 리스트 크기 확인\n",
    "DB.size() == 1\n",
    "\n",
    "# 모든 노드 삭제 후 리스트 크기 확인\n",
    "DB.delete()\n",
    "DB.size() == 0\n",
    "\n",
    "# 데이터가 없는 경우 첫번째 노드 확인\n",
    "DB.first() == None\n",
    "\n",
    "# traverse_all 메소드 테스트\n",
    "DB.append(\"apple\")\n",
    "DB.append(\"banana\")\n",
    "DB.append(\"cherry\")\n",
    "DB.traverse_all() "
   ]
  },
  {
   "cell_type": "code",
   "execution_count": null,
   "id": "365b9898",
   "metadata": {},
   "outputs": [],
   "source": []
  }
 ],
 "metadata": {
  "kernelspec": {
   "display_name": "Python 3 (ipykernel)",
   "language": "python",
   "name": "python3"
  },
  "language_info": {
   "codemirror_mode": {
    "name": "ipython",
    "version": 3
   },
   "file_extension": ".py",
   "mimetype": "text/x-python",
   "name": "python",
   "nbconvert_exporter": "python",
   "pygments_lexer": "ipython3",
   "version": "3.10.9"
  }
 },
 "nbformat": 4,
 "nbformat_minor": 5
}
